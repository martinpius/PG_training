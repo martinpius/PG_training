{
  "cells": [
    {
      "cell_type": "markdown",
      "metadata": {
        "id": "view-in-github",
        "colab_type": "text"
      },
      "source": [
        "<a href=\"https://colab.research.google.com/github/martinpius/PG_training/blob/main/intro_colab.ipynb\" target=\"_parent\"><img src=\"https://colab.research.google.com/assets/colab-badge.svg\" alt=\"Open In Colab\"/></a>"
      ]
    },
    {
      "cell_type": "code",
      "execution_count": null,
      "metadata": {
        "id": "D6NmezpI0HIC"
      },
      "outputs": [],
      "source": [
        "# Google Colab Notebook Setup\n",
        "\n",
        "# Step 1: Mount Google Drive\n",
        "# Google Drive allows you to store and access files in the cloud.\n",
        "# To access Google Drive from Colab, you need to mount it.\n",
        "\n",
        "from google.colab import drive  # Import the drive module\n",
        "import os\n",
        "import numpy as np  # Library for numerical computations\n",
        "import pandas as pd  # Library for handling datasets\n",
        "import matplotlib.pyplot as plt  # Library for plotting graphs\n",
        "\n",
        "drive.mount('/content/drive/', force_remount= True)  # This will prompt for authorization\n",
        "\n",
        "# Step 2: Verify that Google Drive is Mounted\n",
        "# Once mounted, your Drive files will be accessible under `/content/drive/My Drive`\n",
        "\n",
        "!ls /content/drive/My\\ Drive/  # List files in your Drive\n",
        "\n",
        "# Step 3: Change the Working Directory (Optional)\n",
        "# If you want to work inside a specific folder in your Drive, set it as the working directory.\n",
        "\n",
        "os.chdir('/content/drive/My Drive')  # Change to your project folder\n",
        "print(\"Current Directory:\", os.getcwd())\n",
        "\n",
        "# Step 4: Start Writing Python Code\n",
        "# Now that Google Drive is mounted, you can start coding in Python.\n",
        "\n",
        "# Example 1: Simple Python Code\n",
        "print(\"Hello, Colab!\")  # This prints a message to the screen\n",
        "\n",
        "# Example 2: Importing Libraries\n",
        "# Let's import some commonly used Python libraries.\n",
        "\n",
        "\n",
        "# Example 3: Creating a Simple DataFrame\n",
        "# A DataFrame is like a table, useful for storing and analyzing data.\n",
        "\n",
        "data = {'Name': ['Alice', 'Bob', 'Charlie'], 'Age': [25, 30, 35], 'Score': [90, 85, 88]}\n",
        "df = pd.DataFrame(data)  # Convert dictionary to DataFrame\n",
        "print(df)  # Display the table\n",
        "\n",
        "# Example 4: Plotting a Graph\n",
        "# Let's create a simple bar chart using Matplotlib.\n",
        "\n",
        "plt.bar(df['Name'], df['Score'])  # Create a bar chart\n",
        "plt.xlabel('Name')  # Label for x-axis\n",
        "plt.ylabel('Score')  # Label for y-axis\n",
        "plt.title('Scores of Students')  # Chart title\n",
        "plt.show()  # Display the chart\n"
      ]
    },
    {
      "cell_type": "code",
      "execution_count": 2,
      "metadata": {
        "id": "NKQ-FdER0HID"
      },
      "outputs": [],
      "source": []
    }
  ],
  "metadata": {
    "kernelspec": {
      "display_name": "NEXTGENERATION_AI",
      "language": "python",
      "name": "python3"
    },
    "language_info": {
      "name": "python",
      "version": "3.12.3"
    },
    "colab": {
      "provenance": [],
      "include_colab_link": true
    }
  },
  "nbformat": 4,
  "nbformat_minor": 0
}